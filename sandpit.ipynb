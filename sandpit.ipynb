{
 "cells": [
  {
   "cell_type": "code",
   "execution_count": null,
   "metadata": {},
   "outputs": [],
   "source": [
    "from openpyxl import load_workbook\n",
    "xlsFile='C:/00_STUDY/WORK/01_Projects/IMS PP/cm_sz_nolinks.xlsx'\n",
    "wb=load_workbook(xlsFile)"
   ]
  },
  {
   "cell_type": "code",
   "execution_count": null,
   "metadata": {},
   "outputs": [],
   "source": [
    "wb.sheetnames"
   ]
  },
  {
   "cell_type": "code",
   "execution_count": null,
   "metadata": {},
   "outputs": [],
   "source": [
    "for row in wb['AAA'].iter_cols(min_col=7,max_col=7,max_row=40):\n",
    "    print(row)"
   ]
  },
  {
   "cell_type": "code",
   "execution_count": null,
   "metadata": {},
   "outputs": [],
   "source": [
    "for row in wb['AAA'].iter_cols(min_col=7,max_col=7,max_row=40,values_only=True):\n",
    "    print(str(row))"
   ]
  },
  {
   "cell_type": "code",
   "execution_count": null,
   "metadata": {},
   "outputs": [],
   "source": [
    "import ipaddress\n",
    "\n",
    "def is_ip(address):\n",
    "    try:\n",
    "        ipaddress.ip_address(address)\n",
    "        return True\n",
    "    except ValueError:\n",
    "        return False"
   ]
  },
  {
   "cell_type": "code",
   "execution_count": null,
   "metadata": {},
   "outputs": [],
   "source": [
    "value_list=[]\n",
    "\n",
    "for row in wb['AAA'].iter_rows(min_col=7,max_col=7,max_row=40,values_only=True):\n",
    "    value_list.append(row)\n",
    "print(value_list)"
   ]
  },
  {
   "cell_type": "code",
   "execution_count": null,
   "metadata": {},
   "outputs": [],
   "source": [
    "from pprint import pprint\n",
    "\n",
    "ip_list=[]\n",
    "\n",
    "for row in wb['AAA'].iter_cols(min_col=7,max_col=7,max_row=40,values_only=True):\n",
    "    try:\n",
    "        ipaddress.ip_address(str(row))\n",
    "        ip_list.append(row)\n",
    "    except ValueError:\n",
    "        pass\n",
    "\n",
    "pprint(ip_list)"
   ]
  },
  {
   "cell_type": "code",
   "execution_count": null,
   "metadata": {},
   "outputs": [],
   "source": [
    "from pprint import pprint\n",
    "\n",
    "ip_list=[]\n",
    "\n",
    "sheet=\"AAA\"\n",
    "col=\"G\"\n",
    "\n",
    "for row in wb[sheet][col]:\n",
    "    try:\n",
    "        ipaddress.ip_address(str(row.value))\n",
    "        ip_list.append(row.value)\n",
    "    except ValueError:\n",
    "        pass\n",
    "\n",
    "pprint(ip_list)"
   ]
  },
  {
   "cell_type": "code",
   "execution_count": null,
   "metadata": {},
   "outputs": [],
   "source": [
    "from pprint import pprint\n",
    "\n",
    "ip_list=[]\n",
    "\n",
    "sheet=\"AAA\"\n",
    "col=\"G\"\n",
    "\n",
    "for sheet in wb.worksheets:\n",
    "    print(sheet.title)\n"
   ]
  },
  {
   "cell_type": "code",
   "execution_count": null,
   "metadata": {},
   "outputs": [],
   "source": [
    "from pprint import pprint\n",
    "wb=load_workbook(xlsFile,data_only=True)\n",
    "\n",
    "ip_list=[]\n",
    "ip_record=[]\n",
    "sheet_=\"AAA\"\n",
    "\n",
    "col_=\"G\"\n",
    "for cell_ in wb[sheet_][col_]:\n",
    "    try:\n",
    "        ipaddress.ip_address(str(cell_.value))\n",
    "        if str(cell_.value) not in ip_list:\n",
    "            ip_=cell_.value\n",
    "            sys_=wb[sheet].cell(row=cell_.row, column=cell_.column-5).value\n",
    "            host_=wb[sheet].cell(row=cell_.row, column=cell_.column-1).value\n",
    "            ip_list.append(ip_)\n",
    "            ip_record.append({\"sys\":sys_,\"host\":host_,\"ip\":ip_})\n",
    "    except ValueError:\n",
    "        pass\n",
    "\n",
    "col_=\"O\"\n",
    "for cell_ in wb[sheet_][col_]:\n",
    "    try:\n",
    "        ipaddress.ip_address(str(cell_.value))\n",
    "        if str(cell_.value) not in ip_list:\n",
    "            ip_=cell_.value\n",
    "            sys_=wb[sheet].cell(row=cell_.row, column=cell_.column-5).value\n",
    "            host_=wb[sheet].cell(row=cell_.row, column=cell_.column-1).value\n",
    "            ip_list.append(ip_)\n",
    "            ip_record.append({\"sys\":sys_,\"host\":host_,\"ip\":ip_})\n",
    "    except ValueError:\n",
    "        pass\n",
    "\n",
    "pprint(ip_record)"
   ]
  },
  {
   "cell_type": "markdown",
   "metadata": {},
   "source": [
    "def getMergedCellVal(sheet, cell):\n",
    "    rng = [s for s in sheet.merged_cells.ranges if cell.coordinate in s]\n",
    "    return sheet.cell(rng[0].min_row, rng[0].min_col).value if len(rng)!=0 else cell.value"
   ]
  },
  {
   "cell_type": "code",
   "execution_count": null,
   "metadata": {},
   "outputs": [],
   "source": [
    "import openpyxl\n",
    "\n",
    "def getMergedCellVal(sheet, cell):\n",
    "    rng = [s for s in sheet.merged_cells.ranges if cell.coordinate in s]\n",
    "    return sheet.cell(rng[0].min_row, rng[0].min_col).value if len(rng)!=0 else cell.value\n",
    "\n",
    "\n",
    "sheet_=wb[\"AAA\"]\n",
    "cell_=wb[\"AAA\"][\"J38\"]\n",
    "\n",
    "getMergedCellVal(sheet_,cell_)"
   ]
  },
  {
   "cell_type": "code",
   "execution_count": null,
   "metadata": {},
   "outputs": [],
   "source": [
    "from pprint import pprint\n",
    "from openpyxl import load_workbook\n",
    "import re\n",
    "\n",
    "xlsFile='C:/Work/01_Projects/IMS PP/host allocation check/cm_sz_nolinks.xlsx'\n",
    "wb=load_workbook(xlsFile,data_only=True)\n",
    "\n",
    "\n",
    "\n",
    "def getMergedCellVal(sheet, cell):\n",
    "    rng = [s for s in sheet.merged_cells.ranges if cell.coordinate in s]\n",
    "    return sheet.cell(rng[0].min_row, rng[0].min_col).value if len(rng)!=0 else cell.value\n",
    "\n",
    "col_list=[\"G\",\"O\"]\n",
    "ip_list=[]\n",
    "ip_record=[]\n",
    "\n",
    "for sheet_ in wb.worksheets:\n",
    "    for col_ in col_list:\n",
    "        for cell_ in sheet_[col_]:\n",
    "            value_=str(getMergedCellVal(sheet_,cell_))\n",
    "            try:\n",
    "                ipaddress.ip_address(value_)\n",
    "                if value_ not in ip_list:\n",
    "                    ip_=str(value_).strip()\n",
    "                    sys_=str(getMergedCellVal(sheet_,sheet_.cell(row=cell_.row, column=cell_.column-5)))\n",
    "                    host_=str(getMergedCellVal(sheet_,sheet_.cell(row=cell_.row, column=cell_.column-1)))\n",
    "                    net_= re.search(r\"\\d+\\.\\d+\\.\\d+\",ip_).group(0)\n",
    "                    hostip_=re.search(r\"\\d+$\",ip_).group(0)\n",
    "                    ip_list.append(ip_)\n",
    "                    ip_record.append({\"HostSys\":sys_,\"host\":host_,\"ip\":ip_,\"net\":net_,\"hostip\":hostip_})\n",
    "            except ValueError:\n",
    "                pass\n",
    "\n",
    "for record in ip_record:\n",
    "    print(record[\"HostSys\"] + ',' + record[\"host\"] + ',' + record[\"ip\"] + ',' + record[\"net\"] + ',' + record[\"hostip\"] )\n"
   ]
  },
  {
   "cell_type": "code",
   "execution_count": null,
   "metadata": {},
   "outputs": [],
   "source": [
    "ws_results=wb.create_sheet(\"hosts\")"
   ]
  },
  {
   "cell_type": "code",
   "execution_count": null,
   "metadata": {},
   "outputs": [],
   "source": [
    "from openpyxl import load_workbook\n",
    "xlsFile='C:/Work/01_Projects/IMS PP/host allocation check/cm_sz_nolinks.xlsx'\n",
    "wb=load_workbook(xlsFile,data_only=True)\n",
    "print(wb.sheetnames)"
   ]
  },
  {
   "cell_type": "code",
   "execution_count": null,
   "metadata": {},
   "outputs": [],
   "source": [
    "ws_results=wb.create_sheet(\"hosts\")\n",
    "print(wb)\n",
    "print(wb.sheetnames)"
   ]
  },
  {
   "cell_type": "code",
   "execution_count": null,
   "metadata": {},
   "outputs": [],
   "source": [
    "wb.save()"
   ]
  },
  {
   "cell_type": "code",
   "execution_count": null,
   "metadata": {},
   "outputs": [],
   "source": [
    "dict={\"a\":1,\"b\":2,\"c\":3}\n",
    "print(dict[\"a\"])"
   ]
  },
  {
   "cell_type": "code",
   "execution_count": null,
   "metadata": {},
   "outputs": [],
   "source": [
    "import re\n",
    "ip=\"172.30.228.50\"\n",
    "#net=ip.split(\".\")\n",
    "#net[:3]\n",
    "\n",
    "net_=re.search(\"\\d+\\.\\d+\\.\\d+\",ip)\n",
    "print(net_.group(0))\n",
    "\n",
    "host_=re.search(\"\\d+$\",ip)\n",
    "print(host_.group())"
   ]
  }
 ],
 "metadata": {
  "kernelspec": {
   "display_name": "Python 3.10.6 ('env_hostcheck': venv)",
   "language": "python",
   "name": "python3"
  },
  "language_info": {
   "codemirror_mode": {
    "name": "ipython",
    "version": 3
   },
   "file_extension": ".py",
   "mimetype": "text/x-python",
   "name": "python",
   "nbconvert_exporter": "python",
   "pygments_lexer": "ipython3",
   "version": "3.10.6"
  },
  "orig_nbformat": 4,
  "vscode": {
   "interpreter": {
    "hash": "de2d294a1f89a9749df728416cfa490b9a1eea2ceb2fb799689e9778f37de3f7"
   }
  }
 },
 "nbformat": 4,
 "nbformat_minor": 2
}
