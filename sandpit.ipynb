{
 "cells": [
  {
   "cell_type": "code",
   "execution_count": 2,
   "metadata": {},
   "outputs": [
    {
     "name": "stderr",
     "output_type": "stream",
     "text": [
      "c:\\Users\\mikhail.lesnikov\\Anaconda3\\envs\\env_MRFP\\lib\\site-packages\\openpyxl\\worksheet\\_reader.py:312: UserWarning: Conditional Formatting extension is not supported and will be removed\n",
      "  warn(msg)\n"
     ]
    }
   ],
   "source": [
    "from openpyxl import load_workbook\n",
    "xlsFile='C:/Work/01_Projects/IMS PP/host allocation check/cm_sz_nolinks.xlsx'\n",
    "wb=load_workbook(xlsFile)"
   ]
  },
  {
   "cell_type": "code",
   "execution_count": 3,
   "metadata": {},
   "outputs": [
    {
     "data": {
      "text/plain": [
       "['AAA',\n",
       " 'DGN',\n",
       " 'EATF',\n",
       " 'IBCF',\n",
       " 'MAG',\n",
       " 'MCN',\n",
       " 'MDM',\n",
       " 'MMT',\n",
       " 'MRF',\n",
       " 'MSC',\n",
       " 'SCN',\n",
       " 'SMO',\n",
       " 'SPN',\n",
       " 'SSC',\n",
       " 'TES',\n",
       " 'TrGW',\n",
       " 'TSN',\n",
       " 'Constants',\n",
       " 'Changelog']"
      ]
     },
     "execution_count": 3,
     "metadata": {},
     "output_type": "execute_result"
    }
   ],
   "source": [
    "wb.sheetnames"
   ]
  },
  {
   "cell_type": "code",
   "execution_count": 12,
   "metadata": {},
   "outputs": [
    {
     "name": "stdout",
     "output_type": "stream",
     "text": [
      "(<MergedCell 'AAA'.G1>, <MergedCell 'AAA'.G2>, <Cell 'AAA'.G3>, <MergedCell 'AAA'.G4>, <Cell 'AAA'.G5>, <MergedCell 'AAA'.G6>, <Cell 'AAA'.G7>, <MergedCell 'AAA'.G8>, <MergedCell 'AAA'.G9>, <MergedCell 'AAA'.G10>, <MergedCell 'AAA'.G11>, <MergedCell 'AAA'.G12>, <MergedCell 'AAA'.G13>, <MergedCell 'AAA'.G14>, <MergedCell 'AAA'.G15>, <MergedCell 'AAA'.G16>, <MergedCell 'AAA'.G17>, <MergedCell 'AAA'.G18>, <MergedCell 'AAA'.G19>, <MergedCell 'AAA'.G20>, <MergedCell 'AAA'.G21>, <Cell 'AAA'.G22>, <MergedCell 'AAA'.G23>, <MergedCell 'AAA'.G24>, <MergedCell 'AAA'.G25>, <MergedCell 'AAA'.G26>, <MergedCell 'AAA'.G27>, <MergedCell 'AAA'.G28>, <MergedCell 'AAA'.G29>, <MergedCell 'AAA'.G30>, <MergedCell 'AAA'.G31>, <MergedCell 'AAA'.G32>, <MergedCell 'AAA'.G33>, <MergedCell 'AAA'.G34>, <MergedCell 'AAA'.G35>, <MergedCell 'AAA'.G36>, <MergedCell 'AAA'.G37>, <Cell 'AAA'.G38>, <Cell 'AAA'.G39>, <Cell 'AAA'.G40>)\n"
     ]
    }
   ],
   "source": [
    "for row in wb['AAA'].iter_cols(min_col=7,max_col=7,max_row=40):\n",
    "    print(row)"
   ]
  },
  {
   "cell_type": "code",
   "execution_count": 29,
   "metadata": {},
   "outputs": [
    {
     "name": "stdout",
     "output_type": "stream",
     "text": [
      "(None, None, 'IP Address / Subnet', None, None, None, None, None, None, None, None, None, None, None, None, None, None, None, None, None, None, '=HAM_VPN', None, None, None, None, None, None, None, None, None, None, None, None, None, None, None, '172.31.109.5', '=HAM_DRA_1', None)\n"
     ]
    }
   ],
   "source": [
    "for row in wb['AAA'].iter_cols(min_col=7,max_col=7,max_row=40,values_only=True):\n",
    "    print(str(row))"
   ]
  },
  {
   "cell_type": "code",
   "execution_count": 23,
   "metadata": {},
   "outputs": [],
   "source": [
    "import ipaddress\n",
    "\n",
    "def is_ip(address):\n",
    "    try:\n",
    "        ipaddress.ip_address(address)\n",
    "        return True\n",
    "    except ValueError:\n",
    "        return False"
   ]
  },
  {
   "cell_type": "code",
   "execution_count": 41,
   "metadata": {},
   "outputs": [
    {
     "name": "stdout",
     "output_type": "stream",
     "text": [
      "[(None,), (None,), ('IP Address / Subnet',), (None,), (None,), (None,), (None,), (None,), (None,), (None,), (None,), (None,), (None,), (None,), (None,), (None,), (None,), (None,), (None,), (None,), (None,), ('=HAM_VPN',), (None,), (None,), (None,), (None,), (None,), (None,), (None,), (None,), (None,), (None,), (None,), (None,), (None,), (None,), (None,), ('172.31.109.5',), ('=HAM_DRA_1',), (None,)]\n"
     ]
    }
   ],
   "source": [
    "value_list=[]\n",
    "\n",
    "for row in wb['AAA'].iter_rows(min_col=7,max_col=7,max_row=40,values_only=True):\n",
    "    value_list.append(row)\n",
    "print(value_list)"
   ]
  },
  {
   "cell_type": "code",
   "execution_count": 39,
   "metadata": {},
   "outputs": [
    {
     "name": "stdout",
     "output_type": "stream",
     "text": [
      "[]\n"
     ]
    }
   ],
   "source": [
    "from pprint import pprint\n",
    "\n",
    "ip_list=[]\n",
    "\n",
    "for row in wb['AAA'].iter_cols(min_col=7,max_col=7,max_row=40,values_only=True):\n",
    "    try:\n",
    "        ipaddress.ip_address(str(row))\n",
    "        ip_list.append(row)\n",
    "    except ValueError:\n",
    "        pass\n",
    "\n",
    "pprint(ip_list)"
   ]
  },
  {
   "cell_type": "code",
   "execution_count": null,
   "metadata": {},
   "outputs": [],
   "source": []
  }
 ],
 "metadata": {
  "kernelspec": {
   "display_name": "Python 3.8.13 ('env_MRFP')",
   "language": "python",
   "name": "python3"
  },
  "language_info": {
   "codemirror_mode": {
    "name": "ipython",
    "version": 3
   },
   "file_extension": ".py",
   "mimetype": "text/x-python",
   "name": "python",
   "nbconvert_exporter": "python",
   "pygments_lexer": "ipython3",
   "version": "3.8.13"
  },
  "orig_nbformat": 4,
  "vscode": {
   "interpreter": {
    "hash": "8f9504cf10516113e2d1ed42051359ff15fa889e33b98cc5f609ab06826ea909"
   }
  }
 },
 "nbformat": 4,
 "nbformat_minor": 2
}
