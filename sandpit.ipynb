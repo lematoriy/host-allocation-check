{
 "cells": [
  {
   "cell_type": "code",
   "execution_count": 9,
   "metadata": {},
   "outputs": [
    {
     "name": "stderr",
     "output_type": "stream",
     "text": [
      "c:\\00_STUDY\\WORK\\01_Projects\\IMS PP\\env_hostcheck\\lib\\site-packages\\openpyxl\\worksheet\\_reader.py:312: UserWarning: Conditional Formatting extension is not supported and will be removed\n",
      "  warn(msg)\n"
     ]
    }
   ],
   "source": [
    "from openpyxl import load_workbook\n",
    "xlsFile='C:/00_STUDY/WORK/01_Projects/IMS PP/cm_sz_nolinks.xlsx'\n",
    "wb=load_workbook(xlsFile)"
   ]
  },
  {
   "cell_type": "code",
   "execution_count": 10,
   "metadata": {},
   "outputs": [
    {
     "data": {
      "text/plain": [
       "['AAA',\n",
       " 'DGN',\n",
       " 'EATF',\n",
       " 'IBCF',\n",
       " 'MAG',\n",
       " 'MCN',\n",
       " 'MDM',\n",
       " 'MMT',\n",
       " 'MRF',\n",
       " 'MSC',\n",
       " 'SCN',\n",
       " 'SMO',\n",
       " 'SPN',\n",
       " 'SSC',\n",
       " 'TES',\n",
       " 'TrGW',\n",
       " 'TSN',\n",
       " 'Constants',\n",
       " 'Changelog']"
      ]
     },
     "execution_count": 10,
     "metadata": {},
     "output_type": "execute_result"
    }
   ],
   "source": [
    "wb.sheetnames"
   ]
  },
  {
   "cell_type": "code",
   "execution_count": 11,
   "metadata": {},
   "outputs": [
    {
     "name": "stdout",
     "output_type": "stream",
     "text": [
      "(<MergedCell 'AAA'.G1>, <MergedCell 'AAA'.G2>, <Cell 'AAA'.G3>, <MergedCell 'AAA'.G4>, <Cell 'AAA'.G5>, <MergedCell 'AAA'.G6>, <Cell 'AAA'.G7>, <MergedCell 'AAA'.G8>, <MergedCell 'AAA'.G9>, <MergedCell 'AAA'.G10>, <MergedCell 'AAA'.G11>, <MergedCell 'AAA'.G12>, <MergedCell 'AAA'.G13>, <MergedCell 'AAA'.G14>, <MergedCell 'AAA'.G15>, <MergedCell 'AAA'.G16>, <MergedCell 'AAA'.G17>, <MergedCell 'AAA'.G18>, <MergedCell 'AAA'.G19>, <MergedCell 'AAA'.G20>, <MergedCell 'AAA'.G21>, <Cell 'AAA'.G22>, <MergedCell 'AAA'.G23>, <MergedCell 'AAA'.G24>, <MergedCell 'AAA'.G25>, <MergedCell 'AAA'.G26>, <MergedCell 'AAA'.G27>, <MergedCell 'AAA'.G28>, <MergedCell 'AAA'.G29>, <MergedCell 'AAA'.G30>, <MergedCell 'AAA'.G31>, <MergedCell 'AAA'.G32>, <MergedCell 'AAA'.G33>, <MergedCell 'AAA'.G34>, <MergedCell 'AAA'.G35>, <MergedCell 'AAA'.G36>, <MergedCell 'AAA'.G37>, <Cell 'AAA'.G38>, <Cell 'AAA'.G39>, <Cell 'AAA'.G40>)\n"
     ]
    }
   ],
   "source": [
    "for row in wb['AAA'].iter_cols(min_col=7,max_col=7,max_row=40):\n",
    "    print(row)"
   ]
  },
  {
   "cell_type": "code",
   "execution_count": 12,
   "metadata": {},
   "outputs": [
    {
     "name": "stdout",
     "output_type": "stream",
     "text": [
      "(None, None, 'IP Address / Subnet', None, None, None, None, None, None, None, None, None, None, None, None, None, None, None, None, None, None, '=HAM_VPN', None, None, None, None, None, None, None, None, None, None, None, None, None, None, None, '172.31.109.5', '=HAM_DRA_1', None)\n"
     ]
    }
   ],
   "source": [
    "for row in wb['AAA'].iter_cols(min_col=7,max_col=7,max_row=40,values_only=True):\n",
    "    print(str(row))"
   ]
  },
  {
   "cell_type": "code",
   "execution_count": 13,
   "metadata": {},
   "outputs": [],
   "source": [
    "import ipaddress\n",
    "\n",
    "def is_ip(address):\n",
    "    try:\n",
    "        ipaddress.ip_address(address)\n",
    "        return True\n",
    "    except ValueError:\n",
    "        return False"
   ]
  },
  {
   "cell_type": "code",
   "execution_count": 14,
   "metadata": {},
   "outputs": [
    {
     "name": "stdout",
     "output_type": "stream",
     "text": [
      "[(None,), (None,), ('IP Address / Subnet',), (None,), (None,), (None,), (None,), (None,), (None,), (None,), (None,), (None,), (None,), (None,), (None,), (None,), (None,), (None,), (None,), (None,), (None,), ('=HAM_VPN',), (None,), (None,), (None,), (None,), (None,), (None,), (None,), (None,), (None,), (None,), (None,), (None,), (None,), (None,), (None,), ('172.31.109.5',), ('=HAM_DRA_1',), (None,)]\n"
     ]
    }
   ],
   "source": [
    "value_list=[]\n",
    "\n",
    "for row in wb['AAA'].iter_rows(min_col=7,max_col=7,max_row=40,values_only=True):\n",
    "    value_list.append(row)\n",
    "print(value_list)"
   ]
  },
  {
   "cell_type": "code",
   "execution_count": 15,
   "metadata": {},
   "outputs": [
    {
     "name": "stdout",
     "output_type": "stream",
     "text": [
      "[]\n"
     ]
    }
   ],
   "source": [
    "from pprint import pprint\n",
    "\n",
    "ip_list=[]\n",
    "\n",
    "for row in wb['AAA'].iter_cols(min_col=7,max_col=7,max_row=40,values_only=True):\n",
    "    try:\n",
    "        ipaddress.ip_address(str(row))\n",
    "        ip_list.append(row)\n",
    "    except ValueError:\n",
    "        pass\n",
    "\n",
    "pprint(ip_list)"
   ]
  },
  {
   "cell_type": "code",
   "execution_count": 22,
   "metadata": {},
   "outputs": [
    {
     "name": "stdout",
     "output_type": "stream",
     "text": [
      "['172.31.109.5',\n",
      " '172.30.228.50',\n",
      " '172.30.228.51',\n",
      " '172.30.228.50',\n",
      " '172.30.228.51',\n",
      " '172.30.228.64',\n",
      " '172.30.228.65',\n",
      " '172.30.228.103',\n",
      " '172.30.228.104',\n",
      " '172.30.228.105',\n",
      " '172.30.228.106',\n",
      " '172.30.228.107',\n",
      " '172.30.228.108',\n",
      " '172.30.228.136',\n",
      " '172.30.228.137',\n",
      " '172.30.228.133',\n",
      " '172.30.228.134',\n",
      " '172.30.228.135',\n",
      " '172.30.228.50',\n",
      " '172.30.228.51',\n",
      " '172.30.228.64',\n",
      " '172.30.228.65',\n",
      " '172.30.228.103',\n",
      " '172.30.228.104',\n",
      " '172.30.228.105',\n",
      " '172.30.228.106',\n",
      " '172.30.228.107',\n",
      " '172.30.228.108',\n",
      " '172.30.228.136',\n",
      " '172.30.228.137',\n",
      " '172.30.228.133',\n",
      " '172.30.228.134',\n",
      " '172.30.228.135',\n",
      " '172.30.228.50',\n",
      " '172.30.228.51',\n",
      " '172.30.228.50',\n",
      " '172.30.228.51',\n",
      " '172.30.228.64',\n",
      " '172.30.228.65',\n",
      " '172.30.228.103',\n",
      " '172.30.228.104',\n",
      " '172.30.228.105',\n",
      " '172.30.228.106',\n",
      " '172.30.228.107',\n",
      " '172.30.228.108',\n",
      " '172.30.228.136',\n",
      " '172.30.228.137',\n",
      " '172.30.228.133',\n",
      " '172.30.228.134',\n",
      " '172.30.228.135',\n",
      " '172.30.228.50',\n",
      " '172.30.228.51',\n",
      " '172.30.228.64',\n",
      " '172.30.228.65',\n",
      " '172.30.228.103',\n",
      " '172.30.228.104',\n",
      " '172.30.228.105',\n",
      " '172.30.228.106',\n",
      " '172.30.228.107',\n",
      " '172.30.228.108',\n",
      " '172.30.228.136',\n",
      " '172.30.228.137',\n",
      " '172.30.228.133',\n",
      " '172.30.228.134',\n",
      " '172.30.228.135',\n",
      " '172.30.109.43',\n",
      " '172.30.109.43']\n"
     ]
    }
   ],
   "source": [
    "from pprint import pprint\n",
    "\n",
    "ip_list=[]\n",
    "\n",
    "sheet=\"AAA\"\n",
    "col=\"G\"\n",
    "\n",
    "for row in wb[sheet][col]:\n",
    "    try:\n",
    "        ipaddress.ip_address(str(row.value))\n",
    "        ip_list.append(row.value)\n",
    "    except ValueError:\n",
    "        pass\n",
    "\n",
    "pprint(ip_list)"
   ]
  },
  {
   "cell_type": "code",
   "execution_count": 31,
   "metadata": {},
   "outputs": [
    {
     "name": "stdout",
     "output_type": "stream",
     "text": [
      "AAA\n",
      "DGN\n",
      "EATF\n",
      "IBCF\n",
      "MAG\n",
      "MCN\n",
      "MDM\n",
      "MMT\n",
      "MRF\n",
      "MSC\n",
      "SCN\n",
      "SMO\n",
      "SPN\n",
      "SSC\n",
      "TES\n",
      "TrGW\n",
      "TSN\n",
      "Constants\n",
      "Changelog\n"
     ]
    }
   ],
   "source": [
    "from pprint import pprint\n",
    "\n",
    "ip_list=[]\n",
    "\n",
    "sheet=\"AAA\"\n",
    "col=\"G\"\n",
    "\n",
    "for sheet in wb.worksheets:\n",
    "    print(sheet.title)\n"
   ]
  },
  {
   "cell_type": "code",
   "execution_count": 43,
   "metadata": {},
   "outputs": [
    {
     "name": "stdout",
     "output_type": "stream",
     "text": [
      "[{'host': None, 'ip': '172.30.214.20', 'sys': 'MVS'},\n",
      " {'host': None, 'ip': '172.31.109.5', 'sys': 'DRA (S6b)'},\n",
      " {'host': None, 'ip': '172.30.109.5', 'sys': 'DRA (S6b)'},\n",
      " {'host': 'ppaaaoam01ham-bond3', 'ip': '172.30.228.50', 'sys': 'AAA'},\n",
      " {'host': 'ppaaaoam02ham-bond3', 'ip': '172.30.228.51', 'sys': None},\n",
      " {'host': 'ppaaass01ham-bond3', 'ip': '172.30.228.64', 'sys': None},\n",
      " {'host': 'ppaaass02ham-bond3', 'ip': '172.30.228.65', 'sys': None},\n",
      " {'host': 'ppaaas6b01ham-bond3', 'ip': '172.30.228.103', 'sys': None},\n",
      " {'host': 'ppaaas6b02ham-bond3', 'ip': '172.30.228.104', 'sys': None},\n",
      " {'host': 'ppaaaswm01ham-bond3', 'ip': '172.30.228.105', 'sys': None},\n",
      " {'host': 'ppaaaswm02ham-bond3', 'ip': '172.30.228.106', 'sys': None},\n",
      " {'host': 'ppaaaswx01ham-bond3', 'ip': '172.30.228.107', 'sys': None},\n",
      " {'host': 'ppaaaswx02ham-bond3', 'ip': '172.30.228.108', 'sys': None},\n",
      " {'host': 'ppaaabe01ham-bond3', 'ip': '172.30.228.136', 'sys': None},\n",
      " {'host': 'ppaaabe02ham-bond3', 'ip': '172.30.228.137', 'sys': None},\n",
      " {'host': 'ppaaaslb01ham-bond3', 'ip': '172.30.228.133', 'sys': None},\n",
      " {'host': 'ppaaaslb01aham-bond3', 'ip': '172.30.228.134', 'sys': None},\n",
      " {'host': 'ppaaaslb01bham-bond3', 'ip': '172.30.228.135', 'sys': None},\n",
      " {'host': 'ppaaaslb01-bond2', 'ip': '172.30.109.43', 'sys': 'AAA'},\n",
      " {'host': None, 'ip': '172.21.212.171', 'sys': 'Backup Server'},\n",
      " {'host': None, 'ip': '172.23.200.3', 'sys': 'NTP Server'},\n",
      " {'host': None, 'ip': '172.23.200.102', 'sys': None},\n",
      " {'host': None, 'ip': '172.21.200.3', 'sys': 'NTP Server'},\n",
      " {'host': None, 'ip': '172.21.200.102', 'sys': None},\n",
      " {'host': None, 'ip': '172.23.200.30', 'sys': 'AAA Server'},\n",
      " {'host': None, 'ip': '172.21.200.30', 'sys': 'AAA Server'},\n",
      " {'host': None, 'ip': '172.23.200.35', 'sys': 'NMS'},\n",
      " {'host': None, 'ip': '172.21.218.218', 'sys': 'Syslog Server'},\n",
      " {'host': 'pptes01ham-ens192', 'ip': '172.30.228.48', 'sys': 'DNS Server'}]\n"
     ]
    }
   ],
   "source": [
    "from pprint import pprint\n",
    "wb=load_workbook(xlsFile,data_only=True)\n",
    "\n",
    "ip_list=[]\n",
    "ip_record=[]\n",
    "sheet_=\"AAA\"\n",
    "\n",
    "col_=\"G\"\n",
    "for cell_ in wb[sheet_][col_]:\n",
    "    try:\n",
    "        ipaddress.ip_address(str(cell_.value))\n",
    "        if str(cell_.value) not in ip_list:\n",
    "            ip_=cell_.value\n",
    "            sys_=wb[sheet].cell(row=cell_.row, column=cell_.column-5).value\n",
    "            host_=wb[sheet].cell(row=cell_.row, column=cell_.column-1).value\n",
    "            ip_list.append(ip_)\n",
    "            ip_record.append({\"sys\":sys_,\"host\":host_,\"ip\":ip_})\n",
    "    except ValueError:\n",
    "        pass\n",
    "\n",
    "col_=\"O\"\n",
    "for cell_ in wb[sheet_][col_]:\n",
    "    try:\n",
    "        ipaddress.ip_address(str(cell_.value))\n",
    "        if str(cell_.value) not in ip_list:\n",
    "            ip_=cell_.value\n",
    "            sys_=wb[sheet].cell(row=cell_.row, column=cell_.column-5).value\n",
    "            host_=wb[sheet].cell(row=cell_.row, column=cell_.column-1).value\n",
    "            ip_list.append(ip_)\n",
    "            ip_record.append({\"sys\":sys_,\"host\":host_,\"ip\":ip_})\n",
    "    except ValueError:\n",
    "        pass\n",
    "\n",
    "pprint(ip_record)"
   ]
  },
  {
   "cell_type": "markdown",
   "metadata": {},
   "source": [
    "def getMergedCellVal(sheet, cell):\n",
    "    rng = [s for s in sheet.merged_cells.ranges if cell.coordinate in s]\n",
    "    return sheet.cell(rng[0].min_row, rng[0].min_col).value if len(rng)!=0 else cell.value"
   ]
  },
  {
   "cell_type": "code",
   "execution_count": 55,
   "metadata": {},
   "outputs": [
    {
     "data": {
      "text/plain": [
       "'AAA'"
      ]
     },
     "execution_count": 55,
     "metadata": {},
     "output_type": "execute_result"
    }
   ],
   "source": [
    "import openpyxl\n",
    "\n",
    "def getMergedCellVal(sheet, cell):\n",
    "    rng = [s for s in sheet.merged_cells.ranges if cell.coordinate in s]\n",
    "    return sheet.cell(rng[0].min_row, rng[0].min_col).value if len(rng)!=0 else cell.value\n",
    "\n",
    "\n",
    "sheet_=wb[\"AAA\"]\n",
    "cell_=wb[\"AAA\"][\"J38\"]\n",
    "\n",
    "getMergedCellVal(sheet_,cell_)"
   ]
  },
  {
   "cell_type": "code",
   "execution_count": 64,
   "metadata": {},
   "outputs": [
    {
     "name": "stderr",
     "output_type": "stream",
     "text": [
      "c:\\00_STUDY\\WORK\\01_Projects\\IMS PP\\env_hostcheck\\lib\\site-packages\\openpyxl\\worksheet\\_reader.py:312: UserWarning: Conditional Formatting extension is not supported and will be removed\n",
      "  warn(msg)\n"
     ]
    },
    {
     "name": "stdout",
     "output_type": "stream",
     "text": [
      "[{'host': None, 'ip': '172.30.214.20', 'sys': 'MVS'},\n",
      " {'host': None, 'ip': '172.31.109.5', 'sys': 'DRA (S6b)'},\n",
      " {'host': None, 'ip': '172.30.109.5', 'sys': 'DRA (S6b)'},\n",
      " {'host': 'ppaaaoam01ham-bond3', 'ip': '172.30.228.50', 'sys': 'AAA'},\n",
      " {'host': 'ppaaaoam02ham-bond3', 'ip': '172.30.228.51', 'sys': 'AAA'},\n",
      " {'host': 'ppaaass01ham-bond3', 'ip': '172.30.228.64', 'sys': 'AAA'},\n",
      " {'host': 'ppaaass02ham-bond3', 'ip': '172.30.228.65', 'sys': 'AAA'},\n",
      " {'host': 'ppaaas6b01ham-bond3', 'ip': '172.30.228.103', 'sys': 'AAA'},\n",
      " {'host': 'ppaaas6b02ham-bond3', 'ip': '172.30.228.104', 'sys': 'AAA'},\n",
      " {'host': 'ppaaaswm01ham-bond3', 'ip': '172.30.228.105', 'sys': 'AAA'},\n",
      " {'host': 'ppaaaswm02ham-bond3', 'ip': '172.30.228.106', 'sys': 'AAA'},\n",
      " {'host': 'ppaaaswx01ham-bond3', 'ip': '172.30.228.107', 'sys': 'AAA'},\n",
      " {'host': 'ppaaaswx02ham-bond3', 'ip': '172.30.228.108', 'sys': 'AAA'},\n",
      " {'host': 'ppaaabe01ham-bond3', 'ip': '172.30.228.136', 'sys': 'AAA'},\n",
      " {'host': 'ppaaabe02ham-bond3', 'ip': '172.30.228.137', 'sys': 'AAA'},\n",
      " {'host': 'ppaaaslb01ham-bond3', 'ip': '172.30.228.133', 'sys': 'AAA'},\n",
      " {'host': 'ppaaaslb01aham-bond3', 'ip': '172.30.228.134', 'sys': 'AAA'},\n",
      " {'host': 'ppaaaslb01bham-bond3', 'ip': '172.30.228.135', 'sys': 'AAA'},\n",
      " {'host': 'ppaaaslb01-bond2', 'ip': '172.30.109.43', 'sys': 'AAA'},\n",
      " {'host': None, 'ip': '172.21.212.171', 'sys': 'Backup Server'},\n",
      " {'host': None, 'ip': '172.23.200.3', 'sys': 'NTP Server'},\n",
      " {'host': None, 'ip': '172.23.200.102', 'sys': 'NTP Server'},\n",
      " {'host': None, 'ip': '172.21.200.3', 'sys': 'NTP Server'},\n",
      " {'host': None, 'ip': '172.21.200.102', 'sys': 'NTP Server'},\n",
      " {'host': None, 'ip': '172.23.200.30', 'sys': 'AAA Server'},\n",
      " {'host': None, 'ip': '172.21.200.30', 'sys': 'AAA Server'},\n",
      " {'host': None, 'ip': '172.23.200.35', 'sys': 'NMS'},\n",
      " {'host': None, 'ip': '172.21.218.218', 'sys': 'Syslog Server'},\n",
      " {'host': 'pptes01ham-ens192', 'ip': '172.30.228.48', 'sys': 'DNS Server'},\n",
      " {'host': 'ppmse01ham-eth0', 'ip': '172.30.214.26', 'sys': 'MSE'},\n",
      " {'host': 'ppmse02ham-eth0', 'ip': '172.30.214.27', 'sys': 'MSE'},\n",
      " {'host': 'ppspn01ham-ens192', 'ip': '172.30.161.41', 'sys': 'SPN '},\n",
      " {'host': 'ppspn02ham-ens192', 'ip': '172.30.161.42', 'sys': 'SPN '},\n",
      " {'host': 'ppdgn01ham-ens160', 'ip': '172.30.228.38', 'sys': 'DGN'},\n",
      " {'host': 'ppdgn02ham-ens160', 'ip': '172.30.228.39', 'sys': 'DGN'},\n",
      " {'host': 'ppdgn01ham-ens192', 'ip': '172.30.109.22', 'sys': 'DGN'},\n",
      " {'host': 'ppdgn02ham-ens192', 'ip': '172.30.109.23', 'sys': 'DGN'},\n",
      " {'host': 'ppsas02ham-ethMgmt', 'ip': '172.30.214.24', 'sys': 'SAS'},\n",
      " {'host': 'pptes01ham-ens224', 'ip': '172.30.108.20', 'sys': 'DNS Server'},\n",
      " {'host': 'ppscn01ham-ens192', 'ip': '172.30.161.47', 'sys': 'SCN'},\n",
      " {'host': 'ppscn02ham-ens192', 'ip': '172.30.161.48', 'sys': 'SCN'},\n",
      " {'host': 'ppscn03ham-ens192', 'ip': '172.30.161.49', 'sys': 'SCN'},\n",
      " {'host': 'ppasg01ham-serv3161-scscf', 'ip': '172.30.161.20', 'sys': 'E-CSCF'},\n",
      " {'host': 'ppeatf01ham-ibg1mgmt', 'ip': '172.30.228.100', 'sys': 'EATF'},\n",
      " {'host': 'ppeatf01ham-serv3161-ecscf', 'ip': '172.30.161.65', 'sys': 'EATF'},\n",
      " {'host': 'ppdcm01ham-eth0', 'ip': '172.30.214.21', 'sys': 'DCM'},\n",
      " {'host': 'ppdcm02ham-eth0', 'ip': '172.30.214.22', 'sys': 'DCM'},\n",
      " {'host': 'ppasg02ham-serv3161-scscf', 'ip': '172.30.161.21', 'sys': 'E-CSCF'},\n",
      " {'host': 'pptrgw01ham-serv3187-h248', 'ip': '172.30.187.23', 'sys': 'TRGW'},\n",
      " {'host': None, 'ip': '172.23.5.2', 'sys': 'MSC'},\n",
      " {'host': None, 'ip': '172.21.5.56', 'sys': 'MSC'},\n",
      " {'host': 'ppibcf01ham-ibg1mgmt', 'ip': '172.30.228.26', 'sys': 'IBCF'},\n",
      " {'host': 'ppibcf01aham-ibg1mgmt', 'ip': '172.30.228.27', 'sys': 'IBCF'},\n",
      " {'host': 'ppibcf01bham-ibg1mgmt', 'ip': '172.30.228.28', 'sys': 'IBCF'},\n",
      " {'host': 'ppibcf01ham-serv3161-ibcf', 'ip': '172.30.161.29', 'sys': 'IBCF'},\n",
      " {'host': 'ppibcf01ham-serv3187-h248', 'ip': '172.30.187.20', 'sys': 'IBCF'},\n",
      " {'host': 'ppibcf01ham-serv3030-ibcf', 'ip': '172.30.25.84', 'sys': 'IBCF'},\n",
      " {'host': 'ppibcf01ham-serv3087', 'ip': '172.30.87.52', 'sys': 'IBCF'},\n",
      " {'host': None, 'ip': '172.30.87.72', 'sys': 'LIMF'},\n",
      " {'host': 'ppmag02ham-eth2', 'ip': '172.30.168.21', 'sys': 'MAG'},\n",
      " {'host': 'ppmag01ham-eth2', 'ip': '172.30.168.20', 'sys': 'MAG'},\n",
      " {'host': 'ppmmt01ham-eth2', 'ip': '172.30.168.28', 'sys': 'MMT'},\n",
      " {'host': 'ppmmt02ham-eth2', 'ip': '172.30.168.29', 'sys': 'MMT'},\n",
      " {'host': 'ppmmt03ham-eth2', 'ip': '172.30.168.30', 'sys': 'MMT'},\n",
      " {'host': 'ppsmo01ham-eth2', 'ip': '172.30.168.24', 'sys': 'SMO'},\n",
      " {'host': 'ppsmo02ham-eth2', 'ip': '172.30.168.25', 'sys': 'SMO'},\n",
      " {'host': 'ppsmo03ham-eth2', 'ip': '172.30.168.26', 'sys': 'SMO'},\n",
      " {'host': 'pptsn01ham-eth2', 'ip': '172.30.168.35', 'sys': 'TSN'},\n",
      " {'host': 'pptsn02ham-eth2', 'ip': '172.30.168.36', 'sys': 'TSN'},\n",
      " {'host': 'pptsn03ham-eth2', 'ip': '172.30.168.37', 'sys': 'TSN'},\n",
      " {'host': 'ppmag01ham-eth0', 'ip': '172.30.228.52', 'sys': 'MAG'},\n",
      " {'host': 'ppmag02ham-eth0', 'ip': '172.30.228.53', 'sys': 'MAG'},\n",
      " {'host': 'ppmag01ham-eth3', 'ip': '172.30.110.36', 'sys': 'MAG'},\n",
      " {'host': 'ppmag02ham-eth3', 'ip': '172.30.110.37', 'sys': 'MAG'},\n",
      " {'host': 'ppmag01ham-eth4', 'ip': '172.30.109.26', 'sys': 'MAG'},\n",
      " {'host': 'ppmag02ham-eth4', 'ip': '172.30.109.27', 'sys': 'MAG'},\n",
      " {'host': 'ppmmt01ham-eth1', 'ip': '172.30.161.59', 'sys': 'MMT'},\n",
      " {'host': 'ppmmt02ham-eth1', 'ip': '172.30.161.60', 'sys': 'MMT'},\n",
      " {'host': 'ppmmt03ham-eth1', 'ip': '172.30.161.61', 'sys': 'MMT'},\n",
      " {'host': 'ppmcn01ham-ens160', 'ip': '172.30.228.34', 'sys': 'MCN'},\n",
      " {'host': 'ppmcn02ham-ens160', 'ip': '172.30.228.35', 'sys': 'MCN'},\n",
      " {'host': 'ppmcn03ham-ens160', 'ip': '172.30.228.36', 'sys': 'MCN'},\n",
      " {'host': 'ppmcn01ham-ens192', 'ip': '172.30.161.43', 'sys': 'MCN'},\n",
      " {'host': 'ppmcn02ham-ens192', 'ip': '172.30.161.44', 'sys': 'MCN'},\n",
      " {'host': 'ppmcn03ham-ens192', 'ip': '172.30.161.45', 'sys': 'MCN'},\n",
      " {'host': 'ppmcn01ham-ens224', 'ip': '172.30.109.46', 'sys': 'MCN'},\n",
      " {'host': 'ppmcn02ham-ens224', 'ip': '172.30.109.47', 'sys': 'MCN'},\n",
      " {'host': 'ppmcn03ham-ens224', 'ip': '172.30.109.48', 'sys': 'MCN'},\n",
      " {'host': 'ppmdm01ham-ens160', 'ip': '172.30.228.85', 'sys': 'MDM'},\n",
      " {'host': 'ppmdm02ham-ens160', 'ip': '172.30.228.86', 'sys': 'MDM'},\n",
      " {'host': 'ppmdm03ham-ens160', 'ip': '172.30.228.87', 'sys': 'MDM'},\n",
      " {'host': 'ppsimpl01ham-eth0', 'ip': '172.30.214.31', 'sys': 'SIMPL'},\n",
      " {'host': 'ppmmt01ham-eth0', 'ip': '172.30.228.56', 'sys': 'MMT'},\n",
      " {'host': 'ppmmt02ham-eth0', 'ip': '172.30.228.57', 'sys': 'MMT'},\n",
      " {'host': 'ppmmt03ham-eth0', 'ip': '172.30.228.58', 'sys': 'MMT'},\n",
      " {'host': 'ppsmo01ham-eth0', 'ip': '172.30.228.60', 'sys': 'SMO'},\n",
      " {'host': 'ppsmo02ham-eth0', 'ip': '172.30.228.61', 'sys': 'SMO'},\n",
      " {'host': 'ppsmo03ham-eth0', 'ip': '172.30.228.62', 'sys': 'SMO'},\n",
      " {'host': 'pptsn01ham-eth1', 'ip': '172.30.161.71', 'sys': 'TSN'},\n",
      " {'host': 'pptsn02ham-eth1', 'ip': '172.30.161.72', 'sys': 'TSN'},\n",
      " {'host': 'pptsn03ham-eth1', 'ip': '172.30.161.73', 'sys': 'TSN'},\n",
      " {'host': 'ppamg01ham-serv3162', 'ip': '172.30.162.20', 'sys': 'AMG'},\n",
      " {'host': 'pptrgw01ham-serv3162', 'ip': '172.30.162.29', 'sys': 'TrGW'},\n",
      " {'host': 'ppmrf01ham-eth0', 'ip': '172.30.228.46', 'sys': 'MRF'},\n",
      " {'host': 'ppmrf01ham-eth1', 'ip': '172.30.161.63', 'sys': 'MRF'},\n",
      " {'host': 'ppmrf01ham-eth2', 'ip': '172.30.162.35', 'sys': 'MRF'},\n",
      " {'host': 'ppasg01ham-serv3189-h248', 'ip': '172.30.189.20', 'sys': 'ASG'},\n",
      " {'host': 'ppasg02ham-serv3189-h248', 'ip': '172.30.189.21', 'sys': 'ASG'},\n",
      " {'host': None, 'ip': '172.23.18.5', 'sys': 'MGW'},\n",
      " {'host': None, 'ip': '172.21.18.7', 'sys': 'MGW'},\n",
      " {'host': None, 'ip': '172.21.18.6', 'sys': 'MGW'},\n",
      " {'host': 'ppamg01ham-ibg1mgmt', 'ip': '172.30.228.23', 'sys': 'AMG'},\n",
      " {'host': 'ppamg01aham-ibg1mgmt', 'ip': '172.30.228.24', 'sys': 'AMG'},\n",
      " {'host': 'ppamg01bham-ibg1mgmt', 'ip': '172.30.228.25', 'sys': 'AMG'},\n",
      " {'host': 'ppamg01ham-serv3189-h248', 'ip': '172.30.189.23', 'sys': 'AMG'},\n",
      " {'host': 'ppamg01ham-serv3115', 'ip': '172.30.115.20', 'sys': 'AMG'},\n",
      " {'host': 'ppamg01ham-serv3087', 'ip': '172.30.87.51', 'sys': 'AMG'},\n",
      " {'host': 'ppamg01ham-serv18-atgw', 'ip': '172.23.18.29', 'sys': 'AMG'},\n",
      " {'host': 'ppscn01ham-ens160', 'ip': '172.30.228.42', 'sys': 'SCN'},\n",
      " {'host': 'ppscn02ham-ens160', 'ip': '172.30.228.43', 'sys': 'SCN'},\n",
      " {'host': 'ppscn03ham-ens160', 'ip': '172.30.228.44', 'sys': 'SCN'},\n",
      " {'host': 'ppsmo01ham-eth1', 'ip': '172.30.161.55', 'sys': 'SMO'},\n",
      " {'host': 'ppsmo02ham-eth1', 'ip': '172.30.161.56', 'sys': 'SMO'},\n",
      " {'host': 'ppsmo03ham-eth1', 'ip': '172.30.161.57', 'sys': 'SMO'},\n",
      " {'host': 'ppsmo01ham-eth4', 'ip': '172.30.109.62', 'sys': 'SMO'},\n",
      " {'host': 'ppsmo02ham-eth4', 'ip': '172.30.109.63', 'sys': 'SMO'},\n",
      " {'host': 'ppsmo03ham-eth4', 'ip': '172.30.109.64', 'sys': 'SMO'},\n",
      " {'host': 'ppsmo01ham-eth3', 'ip': '172.30.25.87', 'sys': 'SMO'},\n",
      " {'host': 'ppsmo02ham-eth3', 'ip': '172.30.25.88', 'sys': 'SMO'},\n",
      " {'host': 'ppsmo03ham-eth3', 'ip': '172.30.25.89', 'sys': 'SMO'},\n",
      " {'host': 'ppspn01ham-ens160', 'ip': '172.30.228.32', 'sys': 'SPN'},\n",
      " {'host': 'ppspn02ham-ens160', 'ip': '172.30.228.33', 'sys': 'SPN'},\n",
      " {'host': None, 'ip': '172.23.6.5', 'sys': 'MSC'},\n",
      " {'host': None, 'ip': '172.21.6.5', 'sys': 'MSC'},\n",
      " {'host': 'ppasg01ham-ibg1mgmt', 'ip': '172.30.228.20', 'sys': 'ASG'},\n",
      " {'host': 'ppasg01aham-ibg1mgmt', 'ip': '172.30.228.21', 'sys': 'ASG'},\n",
      " {'host': 'ppasg01bham-ibg1mgmt', 'ip': '172.30.228.22', 'sys': 'ASG'},\n",
      " {'host': 'ppasg02ham-ibg1mgmt', 'ip': '172.30.228.138', 'sys': 'ASG'},\n",
      " {'host': 'ppasg02aham-ibg1mgmt', 'ip': '172.30.228.139', 'sys': 'ASG'},\n",
      " {'host': 'ppasg02bham-ibg1mgmt', 'ip': '172.30.228.140', 'sys': 'ASG'},\n",
      " {'host': 'ppasg01ham-serv3161-ecscf', 'ip': '172.30.161.32', 'sys': 'ASG'},\n",
      " {'host': 'ppasg02ham-serv3161-ecscf', 'ip': '172.30.161.33', 'sys': 'ASG'},\n",
      " {'host': 'ppasg01ham-serv3109', 'ip': '172.30.109.53', 'sys': 'ASG'},\n",
      " {'host': 'ppasg02ham-serv3109', 'ip': '172.30.109.56', 'sys': 'ASG'},\n",
      " {'host': 'ppasg01ham-serv3110-pcscf', 'ip': '172.30.110.20', 'sys': 'ASG'},\n",
      " {'host': 'ppasg02ham-serv3110-pcscf', 'ip': '172.30.110.21', 'sys': 'ASG'},\n",
      " {'host': 'ppasg01ham-serv3087', 'ip': '172.30.87.50', 'sys': 'ASG'},\n",
      " {'host': 'ppasg02ham-serv3087', 'ip': '172.30.87.54', 'sys': 'ASG'},\n",
      " {'host': 'ppasg01ham-serv3030-atcf', 'ip': '172.30.25.85', 'sys': 'ASG'},\n",
      " {'host': 'ppasg02ham-serv3030-atcf', 'ip': '172.30.25.86', 'sys': 'ASG'},\n",
      " {'host': 'ppasg01ham-serv3110-pcscf-sos', 'ip': '172.30.110.29', 'sys': 'ASG'},\n",
      " {'host': 'ppasg02ham-serv3110-pcscf-sos', 'ip': '172.30.110.30', 'sys': 'ASG'},\n",
      " {'host': 'pptms01ham-ens192', 'ip': '172.30.214.25', 'sys': 'TMS'},\n",
      " {'host': None, 'ip': '172.21.105.166', 'sys': 'Location Server'},\n",
      " {'host': None, 'ip': '172.23.8.41', 'sys': 'MGW'},\n",
      " {'host': None, 'ip': '172.23.25.4', 'sys': 'MGW'},\n",
      " {'host': None, 'ip': '172.21.25.4', 'sys': 'MGW'},\n",
      " {'host': None, 'ip': '172.21.8.51', 'sys': 'MGW'},\n",
      " {'host': None, 'ip': '172.22.8.32', 'sys': 'MGW'},\n",
      " {'host': 'pptrgw01ham-ibg1mgmt', 'ip': '172.30.228.29', 'sys': 'TrGW'},\n",
      " {'host': 'pptrgw01aham-ibg1mgmt', 'ip': '172.30.228.30', 'sys': 'TrGW'},\n",
      " {'host': 'pptrgw01bham-ibg1mgmt', 'ip': '172.30.228.31', 'sys': 'TrGW'},\n",
      " {'host': 'pptrgw01ham-serv8', 'ip': '172.23.8.206', 'sys': 'TrGW'},\n",
      " {'host': 'pptrgw01ham-serv3087', 'ip': '172.30.87.53', 'sys': 'TrGW'},\n",
      " {'host': 'pptsn01ham-eth0', 'ip': '172.30.228.113', 'sys': 'TSN'},\n",
      " {'host': 'pptsn02ham-eth0', 'ip': '172.30.228.114', 'sys': 'TSN'},\n",
      " {'host': 'pptsn03ham-eth0', 'ip': '172.30.228.115', 'sys': 'TSN'},\n",
      " {'host': None, 'ip': '172.21.200.201', 'sys': None},\n",
      " {'host': 'dra01kpr', 'ip': '172.21.109.5', 'sys': 'ppdra01ham'},\n",
      " {'host': None, 'ip': '172.21.33.33', 'sys': None},\n",
      " {'host': 'mgw01kpr', 'ip': '172.21.8.31', 'sys': 'mgw01ham'},\n",
      " {'host': 'mgw02kpr', 'ip': '172.21.8.32', 'sys': 'mgw02ham'},\n",
      " {'host': 'mgw03kpr', 'ip': '172.21.8.33', 'sys': 'mgw03ham'},\n",
      " {'host': 'stp01kpr-1', 'ip': '172.21.5.51', 'sys': 'stp01ham-1'},\n",
      " {'host': 'stp01kpr-2', 'ip': '172.21.5.52', 'sys': 'stp01ham-2'},\n",
      " {'host': 'mgw01kpr', 'ip': '172.21.18.5', 'sys': 'mgw01ham'},\n",
      " {'host': 'idns01kpr', 'ip': '172.21.33.7', 'sys': 'idns01ham'}]\n"
     ]
    }
   ],
   "source": [
    "from pprint import pprint\n",
    "wb=load_workbook(xlsFile,data_only=True)\n",
    "\n",
    "ip_list=[]\n",
    "ip_record=[]\n",
    "\n",
    "def getMergedCellVal(sheet, cell):\n",
    "    rng = [s for s in sheet.merged_cells.ranges if cell.coordinate in s]\n",
    "    return sheet.cell(rng[0].min_row, rng[0].min_col).value if len(rng)!=0 else cell.value\n",
    "\n",
    "sheet_list=[wb[\"AAA\"],wb[\"DGN\"]]\n",
    "col_list=[\"G\",\"O\"]\n",
    "\n",
    "for sheet_ in wb.worksheets:\n",
    "    for col_ in col_list:\n",
    "        for cell_ in sheet_[col_]:\n",
    "            value_=str(getMergedCellVal(sheet_,cell_))\n",
    "            try:\n",
    "                ipaddress.ip_address(value_)\n",
    "                if value_ not in ip_list:\n",
    "                    ip_=value_\n",
    "                    sys_=getMergedCellVal(sheet_,sheet_.cell(row=cell_.row, column=cell_.column-5))\n",
    "                    #sys_=wb[sheet].cell(row=cell_.row, column=cell_.column-5).value\n",
    "                    host_=getMergedCellVal(sheet_,sheet_.cell(row=cell_.row, column=cell_.column-1))\n",
    "                    #host_=wb[sheet].cell(row=cell_.row, column=cell_.column-1).value\n",
    "                    ip_list.append(ip_)\n",
    "                    ip_record.append({\"sys\":sys_,\"host\":host_,\"ip\":ip_})\n",
    "            except ValueError:\n",
    "                pass\n",
    "\n",
    "pprint(ip_record)"
   ]
  }
 ],
 "metadata": {
  "kernelspec": {
   "display_name": "Python 3.10.6 ('env_hostcheck': venv)",
   "language": "python",
   "name": "python3"
  },
  "language_info": {
   "codemirror_mode": {
    "name": "ipython",
    "version": 3
   },
   "file_extension": ".py",
   "mimetype": "text/x-python",
   "name": "python",
   "nbconvert_exporter": "python",
   "pygments_lexer": "ipython3",
   "version": "3.10.6"
  },
  "orig_nbformat": 4,
  "vscode": {
   "interpreter": {
    "hash": "de2d294a1f89a9749df728416cfa490b9a1eea2ceb2fb799689e9778f37de3f7"
   }
  }
 },
 "nbformat": 4,
 "nbformat_minor": 2
}
